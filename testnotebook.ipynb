%% markdown
# Developing measurement uncertainty models using probabilistic programming

%% codecell
using Gen
